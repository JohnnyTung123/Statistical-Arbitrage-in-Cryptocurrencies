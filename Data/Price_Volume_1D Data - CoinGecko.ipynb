{
 "cells": [
  {
   "cell_type": "code",
   "execution_count": 10,
   "id": "0c4f8ac5",
   "metadata": {},
   "outputs": [],
   "source": [
    "import requests\n",
    "import pandas as pd\n",
    "import time\n",
    "import os\n",
    "from concurrent.futures import ThreadPoolExecutor, as_completed"
   ]
  },
  {
   "cell_type": "code",
   "execution_count": null,
   "id": "b8287989",
   "metadata": {},
   "outputs": [],
   "source": [
    "# Function to get the top 1000 coins sorted by volume from CoinGecko\n",
    "def get_top_1000_coins(api_key):\n",
    "    all_coins = []\n",
    "    page = 1\n",
    "    while len(all_coins) < 1000:\n",
    "        url = 'https://pro-api.coingecko.com/api/v3/coins/markets'\n",
    "        params = {\n",
    "            'vs_currency': 'usd',\n",
    "            'order': 'volume_desc',\n",
    "            'per_page': 250,  # Fetch 250 coins per page\n",
    "            'page': page\n",
    "        }\n",
    "        headers = {'X-CG-Pro-API-Key': api_key}\n",
    "        response = requests.get(url, headers=headers, params=params)\n",
    "        if response.status_code == 200:\n",
    "            coins = response.json()\n",
    "            if not coins:\n",
    "                break  # No more coins to fetch\n",
    "            all_coins.extend(coins)\n",
    "            page += 1\n",
    "        else:\n",
    "            print(f\"Error fetching coin list: {response.status_code}, {response.text}\")\n",
    "            break\n",
    "        time.sleep(1)  # To respect the API rate limit\n",
    "    return all_coins[:1000]  # Return only the top 1000 coins"
   ]
  },
  {
   "cell_type": "code",
   "execution_count": null,
   "id": "eb54d758",
   "metadata": {},
   "outputs": [],
   "source": [
    "# Function to get historical market data for a coin (including volume)\n",
    "def get_historical_data(coin_id, start_date, end_date, interval, api_key):\n",
    "    url = f'https://pro-api.coingecko.com/api/v3/coins/{coin_id}/market_chart/range'\n",
    "    params = {\n",
    "        'vs_currency': 'usd',\n",
    "        'from': int(start_date.timestamp()),\n",
    "        'to': int(end_date.timestamp()),\n",
    "        'interval': interval\n",
    "    }\n",
    "    headers = {'X-CG-Pro-API-Key': api_key}\n",
    "    response = requests.get(url, headers=headers, params=params)\n",
    "    if response.status_code == 200:\n",
    "        data = response.json()\n",
    "        prices = data.get('prices', [])\n",
    "        volumes = data.get('total_volumes', [])\n",
    "        return prices, volumes\n",
    "    else:\n",
    "        print(f\"Error fetching data for {coin_id}: {response.status_code}, {response.text}\")\n",
    "        return [], []"
   ]
  },
  {
   "cell_type": "code",
   "execution_count": null,
   "id": "c6e2230c",
   "metadata": {},
   "outputs": [],
   "source": [
    "# Function to fetch data for a single coin (including volume)\n",
    "def fetch_coin_data(coin, start_date, end_date, interval, api_key):\n",
    "    coin_id = coin['id']\n",
    "    coin_name = coin['symbol'].upper()\n",
    "    print(f'Fetching data for {coin_name} ({coin_id})...')\n",
    "    try:\n",
    "        prices, volumes = get_historical_data(coin_id, start_date, end_date, interval, api_key)\n",
    "        if prices and volumes:\n",
    "            df = pd.DataFrame(prices, columns=['timestamp', 'price'])\n",
    "            df['volume'] = pd.DataFrame(volumes, columns=['timestamp', 'volume'])['volume']\n",
    "            df['Date'] = pd.to_datetime(df['timestamp'], unit='ms')\n",
    "            df.set_index('Date', inplace=True)\n",
    "            df.drop('timestamp', axis=1, inplace=True)\n",
    "            return coin_name, df\n",
    "    except Exception as e:\n",
    "        print(f'Error fetching data for {coin_name} ({coin_id}): {e}')\n",
    "    return None, None"
   ]
  },
  {
   "cell_type": "code",
   "execution_count": null,
   "id": "a25444e3",
   "metadata": {},
   "outputs": [],
   "source": [
    "# Function to save intermediate data to disk\n",
    "def save_data(coin_data, filename='CoinGecko_px_1D_temp.pkl'):\n",
    "    combined_df = pd.concat(coin_data, axis=1)\n",
    "    combined_df.columns = pd.MultiIndex.from_tuples(combined_df.columns)\n",
    "    combined_df.to_pickle(filename)\n",
    "    combined_df.to_csv(filename.replace('.pkl', '.csv'))\n",
    "    print(f'Data saved to {filename}')"
   ]
  },
  {
   "cell_type": "code",
   "execution_count": null,
   "id": "7cbbc9a5",
   "metadata": {},
   "outputs": [],
   "source": [
    "# Your CoinGecko API key\n",
    "api_key = ''\n",
    "\n",
    "# Define the start and end dates for the data\n",
    "start_date = pd.Timestamp('2018-01-01')\n",
    "end_date = pd.Timestamp.now()\n",
    "interval = 'daily'\n",
    "\n",
    "# Get the list of the top 1000 coins sorted by volume\n",
    "coins = get_top_1000_coins(api_key)\n",
    "\n",
    "# Initialize a dictionary to store the data\n",
    "coin_data = {}\n",
    "\n",
    "# Load the checkpoint if it exists\n",
    "checkpoint_file = 'checkpoint.txt'\n",
    "if os.path.exists(checkpoint_file):\n",
    "    with open(checkpoint_file, 'r') as f:\n",
    "        processed_coins = set(f.read().splitlines())\n",
    "else:\n",
    "    processed_coins = set()"
   ]
  },
  {
   "cell_type": "code",
   "execution_count": null,
   "id": "abf4d7f9",
   "metadata": {},
   "outputs": [],
   "source": [
    "# Use ThreadPoolExecutor to fetch data concurrently\n",
    "with ThreadPoolExecutor(max_workers=10) as executor:\n",
    "    futures = {}\n",
    "    for coin in coins:\n",
    "        coin_id = coin['id']\n",
    "        if coin_id in processed_coins:\n",
    "            continue  # Skip already processed coins\n",
    "        future = executor.submit(fetch_coin_data, coin, start_date, end_date, interval, api_key)\n",
    "        futures[future] = coin_id\n",
    "    \n",
    "    for i, future in enumerate(as_completed(futures), 1):\n",
    "        coin_name, df = future.result()\n",
    "        if coin_name and df is not None:\n",
    "            coin_data[coin_name] = df\n",
    "            # Save checkpoint\n",
    "            with open(checkpoint_file, 'a') as f:\n",
    "                f.write(futures[future] + '\\n')\n",
    "\n",
    "        # Periodically save the data\n",
    "        if i % 50 == 0:  # Save every 50 coins\n",
    "            save_data(coin_data, filename='CoinGecko_px_vol_1D.pkl')"
   ]
  },
  {
   "cell_type": "code",
   "execution_count": null,
   "id": "12930e92",
   "metadata": {},
   "outputs": [],
   "source": [
    "# Final save of all data\n",
    "save_data(coin_data, filename='CoinGecko_px_vol_1D.pkl')\n",
    "\n",
    "# Clean up checkpoint file\n",
    "if os.path.exists(checkpoint_file):\n",
    "    os.remove(checkpoint_file)\n",
    "\n",
    "print('Data fetching and saving complete.')"
   ]
  }
 ],
 "metadata": {
  "kernelspec": {
   "display_name": "Python 3 (ipykernel)",
   "language": "python",
   "name": "python3"
  },
  "language_info": {
   "codemirror_mode": {
    "name": "ipython",
    "version": 3
   },
   "file_extension": ".py",
   "mimetype": "text/x-python",
   "name": "python",
   "nbconvert_exporter": "python",
   "pygments_lexer": "ipython3",
   "version": "3.11.5"
  }
 },
 "nbformat": 4,
 "nbformat_minor": 5
}
